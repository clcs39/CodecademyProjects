{
 "cells": [
  {
   "cell_type": "markdown",
   "metadata": {},
   "source": [
    "# This is Jeopardy!"
   ]
  },
  {
   "cell_type": "markdown",
   "metadata": {},
   "source": [
    "#### Overview"
   ]
  },
  {
   "cell_type": "markdown",
   "metadata": {},
   "source": [
    "This project is slightly different than others you have encountered thus far. Instead of a step-by-step tutorial, this project contains a series of open-ended requirements which describe the project you'll be building. There are many possible ways to correctly fulfill all of these requirements, and you should expect to use the internet, Codecademy, and/or other resources when you encounter a problem that you cannot easily solve."
   ]
  },
  {
   "cell_type": "markdown",
   "metadata": {},
   "source": [
    "#### Project Goals"
   ]
  },
  {
   "cell_type": "markdown",
   "metadata": {},
   "source": [
    "You will work to write several functions that investigate a dataset of _Jeopardy!_ questions and answers. Filter the dataset for topics that you're interested in, compute the average difficulty of those questions, and train to become the next Jeopardy champion!"
   ]
  },
  {
   "cell_type": "markdown",
   "metadata": {},
   "source": [
    "## Prerequisites"
   ]
  },
  {
   "cell_type": "markdown",
   "metadata": {},
   "source": [
    "In order to complete this project, you should have completed the Pandas lessons in the <a href=\"https://www.codecademy.com/learn/paths/analyze-data-with-python\">Analyze Data with Python Skill Path</a>. You can also find those lessons in the <a href=\"https://www.codecademy.com/learn/data-processing-pandas\">Data Analysis with Pandas course</a> or the <a href=\"https://www.codecademy.com/learn/paths/data-science/\">Data Scientist Career Path</a>.\n",
    "\n",
    "Finally, the <a href=\"https://www.codecademy.com/learn/practical-data-cleaning\">Practical Data Cleaning</a> course may also be helpful."
   ]
  },
  {
   "cell_type": "markdown",
   "metadata": {},
   "source": [
    "## Project Requirements"
   ]
  },
  {
   "cell_type": "markdown",
   "metadata": {},
   "source": [
    "1. We've provided a csv file containing data about the game show _Jeopardy!_ in a file named `jeopardy.csv`. Load the data into a DataFrame and investigate its contents. Try to print out specific columns.\n",
    "\n",
    "   Note that in order to make this project as \"real-world\" as possible, we haven't modified the data at all - we're giving it to you exactly how we found it. As a result, this data isn't as \"clean\" as the datasets you normally find on Codecademy. More specifically, there's something odd about the column names. After you figure out the problem with the column names, you may want to rename them to make your life easier for the rest of the project.\n",
    "   \n",
    "   In order to display the full contents of a column, we've added this line of code for you:\n",
    "   \n",
    "   ```py\n",
    "   pd.set_option('display.max_colwidth', None)\n",
    "   ```"
   ]
  },
  {
   "cell_type": "code",
   "execution_count": 1,
   "metadata": {},
   "outputs": [
    {
     "name": "stdout",
     "output_type": "stream",
     "text": [
      "   Show Number    Air Date      Round                         Category  Value  \\\n",
      "0         4680  2004-12-31  Jeopardy!                          HISTORY   $200   \n",
      "1         4680  2004-12-31  Jeopardy!  ESPN's TOP 10 ALL-TIME ATHLETES   $200   \n",
      "2         4680  2004-12-31  Jeopardy!      EVERYBODY TALKS ABOUT IT...   $200   \n",
      "3         4680  2004-12-31  Jeopardy!                 THE COMPANY LINE   $200   \n",
      "4         4680  2004-12-31  Jeopardy!              EPITAPHS & TRIBUTES   $200   \n",
      "\n",
      "                                                                                                      Question  \\\n",
      "0             For the last 8 years of his life, Galileo was under house arrest for espousing this man's theory   \n",
      "1  No. 2: 1912 Olympian; football star at Carlisle Indian School; 6 MLB seasons with the Reds, Giants & Braves   \n",
      "2                     The city of Yuma in this state has a record average of 4,055 hours of sunshine each year   \n",
      "3                         In 1963, live on \"The Art Linkletter Show\", this company served its billionth burger   \n",
      "4     Signer of the Dec. of Indep., framer of the Constitution of Mass., second President of the United States   \n",
      "\n",
      "       Answer  \n",
      "0  Copernicus  \n",
      "1  Jim Thorpe  \n",
      "2     Arizona  \n",
      "3  McDonald's  \n",
      "4  John Adams  \n",
      "<class 'pandas.core.frame.DataFrame'>\n",
      "RangeIndex: 216930 entries, 0 to 216929\n",
      "Data columns (total 7 columns):\n",
      " #   Column       Non-Null Count   Dtype \n",
      "---  ------       --------------   ----- \n",
      " 0   Show Number  216930 non-null  int64 \n",
      " 1    Air Date    216930 non-null  object\n",
      " 2    Round       216930 non-null  object\n",
      " 3    Category    216930 non-null  object\n",
      " 4    Value       216930 non-null  object\n",
      " 5    Question    216930 non-null  object\n",
      " 6    Answer      216928 non-null  object\n",
      "dtypes: int64(1), object(6)\n",
      "memory usage: 11.6+ MB\n",
      "None\n"
     ]
    }
   ],
   "source": [
    "import pandas as pd\n",
    "pd.set_option('display.max_colwidth', None)\n",
    "# pd.set_option('display.max_rows', None)\n",
    "\n",
    "j = pd.read_csv('jeopardy.csv')\n",
    "print(j.head())\n",
    "print(j.info())"
   ]
  },
  {
   "cell_type": "code",
   "execution_count": 2,
   "metadata": {},
   "outputs": [
    {
     "name": "stdout",
     "output_type": "stream",
     "text": [
      "<class 'pandas.core.frame.DataFrame'>\n",
      "RangeIndex: 216930 entries, 0 to 216929\n",
      "Data columns (total 7 columns):\n",
      " #   Column       Non-Null Count   Dtype \n",
      "---  ------       --------------   ----- \n",
      " 0   show_number  216930 non-null  int64 \n",
      " 1   air_date     216930 non-null  object\n",
      " 2   round        216930 non-null  object\n",
      " 3   category     216930 non-null  object\n",
      " 4   value        216930 non-null  object\n",
      " 5   question     216930 non-null  object\n",
      " 6   answer       216928 non-null  object\n",
      "dtypes: int64(1), object(6)\n",
      "memory usage: 11.6+ MB\n",
      "None\n"
     ]
    }
   ],
   "source": [
    "j.columns = ['show_number', 'air_date', 'round', 'category', 'value', 'question', 'answer']\n",
    "print(j.info())"
   ]
  },
  {
   "cell_type": "code",
   "execution_count": 3,
   "metadata": {},
   "outputs": [
    {
     "name": "stdout",
     "output_type": "stream",
     "text": [
      "        show_number    air_date             round       category value  \\\n",
      "94817          4346  2003-06-23         Jeopardy!  GOING \"N\"SANE  $200   \n",
      "143297         6177  2011-06-21  Double Jeopardy!        NOTHING  $400   \n",
      "\n",
      "                                                               question answer  \n",
      "94817                                      It often precedes \"and void\"    NaN  \n",
      "143297  This word for \"nothing\" precedes \"and void\" to mean \"not valid\"    NaN  \n"
     ]
    }
   ],
   "source": [
    "print(j[j.answer.isnull()])"
   ]
  },
  {
   "cell_type": "markdown",
   "metadata": {},
   "source": [
    "2. Write a function that filters the dataset for questions that contains all of the words in a list of words. For example, when the list `[\"King\", \"England\"]` was passed to our function, the function returned a DataFrame of 49 rows. Every row had the strings `\"King\"` and `\"England\"` somewhere in its `\" Question\"`.\n",
    "\n",
    "   Test your function by printing out the column containing the question of each row of the dataset."
   ]
  },
  {
   "cell_type": "code",
   "execution_count": 4,
   "metadata": {},
   "outputs": [
    {
     "name": "stdout",
     "output_type": "stream",
     "text": [
      "49 \n",
      "------\n",
      "4953                                                                                                                                                                                                                                                                      Both England's King George V & FDR put their stamp of approval on this \"King of Hobbies\"\n",
      "14912                                                                                                                                                                                                                                                            This country's King Louis IV was nicknamed \"Louis From Overseas\" because he was raised in England\n",
      "21511                                                                                                                                                                                                                                                                                 this man and his son ruled England following the execution of King Charles I\n",
      "23810                                                                                                                                                                                                                                                         William the Conqueror was crowned King of England in Westminster Abbey on Christmas Day in this year\n",
      "27555                                                                                                                                                                                                                                                                           This member of the Medici family was the mother-in-law of England's King Charles I\n",
      "33294                 (Sarah of the Clue Crew delivers the clue from the Bayeux Cathedral in France.)  Despite taking an oath to assure another succession, Harold is crowned King of England; the tapestry indicated it was <a href=\"http://www.j-archive.com/media/2008-12-18_J_08.jpg\" target=\"_blank\">Stigant</a>, this archbishop, who performed the ceremony\n",
      "41148                                                                                                                                                                                                                                    This French king recognized William of Orange as William II, King of England, under the terms of 1697's Treaty of Ryswick\n",
      "41357                                                                                                                                                                                                                                                     England's King Henry VIII had 3 wives named Catherine:  Catherine Howard, Catherine of Aragon & this one\n",
      "43122                                                                                                                                                                                                                                                                                                                       The father of England's King Edward VI\n",
      "47814                                                                                                                                                                                                                                                                                                   This steak sauce was created for King George IV of England\n",
      "49994                                                                                                                                                                                                                                                                       Elizabeth I's half-brother, he reigned before her as King of England from 1547 to 1553\n",
      "51115                                                                                                                  (<a href=\"http://www.j-archive.com/media/2000-03-02_J_22.jpg\" target=\"_blank\">Alex Trebek reads from England.</a>)  In 1214 barons fed up with King John met at the abbey whose ruins we see here; the result a year later was this charter\n",
      "51565                                                                                                                                                                                                                                                 He wrote several anthems, including \"The King Shall Rejoice\", for the coronation of England's King George II\n",
      "56600                                                                                                                                                                                                                                                              This city known for its 24-hour auto race was the birthplace of England's King Henry II in 1133\n",
      "57516                                                                                                                                                                                                                                                                                         Famous (& rather insulting) adjective for England's King Ethelred II\n",
      "58949                                                                                                                                                                                                                                                                        He became King of England in 1399 after forcing his cousin Richard II from the throne\n",
      "71808                                                                                                                                                                                                                                                                                      Number of the William who was England's \"Sailor King\" from 1830 to 1837\n",
      "74235                                                                                                                                                                                                                                                                     Barons & churchmen drew up this 1215 document to reduce the power of England's King John\n",
      "77195                                                                                                                                                                                                                                                          He became King of England on June 26, 1483; just over 2 years later he was killed at Bosworth Field\n",
      "79457                                                                                                                                                                                                                                              On Christmas Day 1066, he was crowned King of England, 72 days after defeating Harold at the Battle of Hastings\n",
      "80113                                                                                                                                                                                                                                                                                                England's King Charles II was known by this \"jovial\" nickname\n",
      "84639                                                                                                                                                                                                                                                                            He went from second banana on \"Roseanne\" to top banana of England in \"King Ralph\"\n",
      "86412                                                                                                                                                                                                                                                                         This country's King Olaf V was born in England & was the grandson of King Edward VII\n",
      "89710                                                                                                                                                                                                                                                            This 11th Century King of England also ruled Denmark & Norway during the latter part of his reign\n",
      "111926                                                                                                                                                                                                                                                   It begins \"John, by the grace of God, King of England, Lord of Ireland, Duke of Normandy & Aquitaine....\"\n",
      "118809                                                                                                                                                                                                                                                                                            In French this King of England is called Guillaume le Conquerant\n",
      "123299                                                                                                                                                                                                                                                                     If you want to be crowned King of England, this rock has to be in your coronation chair\n",
      "123671                                                                                                                                                                                                                                                                                                                              King Henry VII of England dies\n",
      "125822                                                                                                                                                                                                                                                                                              Famous nickname of the eldest son of England's King Edward III\n",
      "127484                                                                                                                                                                                                                                                                Ethelred the Unready managed to lose most of England to King Sweyn Forkbeard of this country\n",
      "127758                                                                                                                                                                                                                                                                                  This state was named for the King of England who reigned from 1727 to 1760\n",
      "129106                                                                                                                                                                                                                                                              King Edward I of England, who fought William Wallace, had this nickname relating to his height\n",
      "130208                                                                                                                                                                                                                                                                                    This \"Sun King\" sniffed, \"England is a little garden full of sour weeds\"\n",
      "137818                                                                                                                                                                                                                                                                                        The last King William to rule England had this number after his name\n",
      "143434                                                                                                                                                                                                                                                                This Flemish artist painted a unique triple portrait of England's King Charles I around 1637\n",
      "150880                                                                                                                                                                                                                                                                                       During Stanley Baldwin's term as P.M., this King of England abdicated\n",
      "165110                                                                                                                                                                                                                                                        The 1st commoner to rule England, he became lord protector following the overthrow of King Charles I\n",
      "165197                                                                                                                                                                                                                                                       The \"Angel of Hadley\" is said to have saved a New England town during the war with this Indian \"King\"\n",
      "170007                                                                                                                                                                                                                                                                In the 1697 Treaty of Rijswijk, the French recognized this Dutch-born man as King of England\n",
      "174055                                                                                                                                                                                                                                                                                            This conqueror was crowned King of England on Christmas Day 1066\n",
      "175259                                                                                                                                                                                                                                                                                                          His short reign as King of England fell in in 1936\n",
      "183462                                                                                                                                                                                                                                                            A capital in the West Indies is named for this family name of William of Orange, King of England\n",
      "186239                                                                                                                                                                                                                                           He was King of England from 1189 to 1199 but spent only 6 months there; the rest of the time, he was off fighting\n",
      "187651                                                                                                                                                                                                                                                                     This Bahamian capital took its name from the family name of King William III of England\n",
      "191579                                                                                                                                                                                                                                                                             England's King Harold II lost the all-important Battle of Hastings in this year\n",
      "192265    (<a href=\"http://www.j-archive.com/media/2012-01-17_DJ_25.jpg\" target=\"_blank\">Sarah of the Clue Crew stands in front of the Royal Palace in Oslo, Norway.</a>) King Harald V lives here, in Norway's Royal Palace. He and his second cousin, England's Queen Elizabeth, are both great-grandchildren of this British king, who ruled from 1901 to 1910.\n",
      "192966                                                                                                                                                                                                                                                                                                                          England's King _____ _____ R. Luce\n",
      "194516                                                                                                                                                                                                                                                            The \"Monty Python\" member who played King Arthur, he ended his grail quest in Maidstone, England\n",
      "200369                                                                                                                                                                                                                                             8th C. King Offa built a 170-mile north-south dike that still partly marks the border of England & this country\n",
      "Name: question, dtype: object\n"
     ]
    }
   ],
   "source": [
    "def word_filter(lst):\n",
    "    filter = lambda q: all(i in q for i in lst)\n",
    "    return j[j.question.apply(filter)]\n",
    "\n",
    "print(word_filter(['King', 'England']).question.count(), '\\n------')\n",
    "print(word_filter(['King', 'England']).question)"
   ]
  },
  {
   "cell_type": "markdown",
   "metadata": {},
   "source": [
    "3. Test your original function with a few different sets of words to try to find some ways your function breaks. Edit your function so it is more robust.\n",
    "\n",
    "   For example, think about capitalization. We probably want to find questions that contain the word `\"King\"` or `\"king\"`.\n",
    "   \n",
    "   You may also want to check to make sure you don't find rows that contain substrings of your given words. For example, our function found a question that didn't contain the word `\"king\"`, however it did contain the word `\"viking\"` &mdash; it found the `\"king\"` inside `\"viking\"`. Note that this also comes with some drawbacks &mdash; you would no longer find questions that contained words like `\"England's\"`."
   ]
  },
  {
   "cell_type": "code",
   "execution_count": 5,
   "metadata": {},
   "outputs": [
    {
     "name": "stdout",
     "output_type": "stream",
     "text": [
      "51 \n",
      "------\n",
      "6337                           In retaliation for Viking raids, this \"Unready\" king of England attacks Norse areas of the Isle of Man\n",
      "9191                                         This king of England beat the odds to trounce the French in the 1415 Battle of Agincourt\n",
      "13454                                                            It's the number that followed the last king of England named William\n",
      "18076                                 In 1199 this crusader king of England was mortally wounded while besieging the castle of Chalus\n",
      "19168                                                       He was the only king of England to have \"The Great\" tacked on to his name\n",
      "21511                                                    this man and his son ruled England following the execution of King Charles I\n",
      "23810                            William the Conqueror was crowned King of England in Westminster Abbey on Christmas Day in this year\n",
      "23979                                  This \"unready\" king of England lost most of his country to Sven Forkbeard, the king of Denmark\n",
      "26780                                                     This king of England was killed by a Norman arrow at the Battle of Hastings\n",
      "33174                                                                          This king of England was a leader of the Third Crusade\n",
      "49994                                          Elizabeth I's half-brother, he reigned before her as King of England from 1547 to 1553\n",
      "57479                                                               He was the last of the 3 men who were king of England during 1066\n",
      "58949                                           He became King of England in 1399 after forcing his cousin Richard II from the throne\n",
      "66520                                  This king called \"the Great\" beat the Danes in 886 to keep all of England from being conquered\n",
      "72582                                     This current king of Jordan received part of his education in England at Harrow & Sandhurst\n",
      "77195                             He became King of England on June 26, 1483; just over 2 years later he was killed at Bosworth Field\n",
      "78510                             Henry II, who succeeded Stephen as king of England in 1154, was the first monarch from this \"house\"\n",
      "82525                                                    The \"rump\" parliament wanted him to be the last king England would ever name\n",
      "86412                                            This country's King Olaf V was born in England & was the grandson of King Edward VII\n",
      "89710                               This 11th Century King of England also ruled Denmark & Norway during the latter part of his reign\n",
      "90084                                                                      He was \"the Confessor\" king of England in the 11th century\n",
      "94425                                                                           From 1714 to 1830 every king of England had this name\n",
      "95019                               Regent for his predecessor from 1811 to 1820, he was king of England on his own from 1820 to 1830\n",
      "103704                                                                        This king of England was the grandfather of Elizabeth I\n",
      "115727                                                           In 1191, Berengaria married this king of England in Limassol, Cyprus\n",
      "118809                                                               In French this King of England is called Guillaume le Conquerant\n",
      "127484                                   Ethelred the Unready managed to lose most of England to King Sweyn Forkbeard of this country\n",
      "127758                                                     This state was named for the King of England who reigned from 1727 to 1760\n",
      "137818                                                           The last King William to rule England had this number after his name\n",
      "140080                                         In 1191 this \"Lion-Hearted\" king of England captured Cyprus & Acre during the Crusades\n",
      "140941              Dutch-born Protestant Prince William of Orange became king of England after this Catholic king was deposed & fled\n",
      "148910                     On his way back from failing to take Jerusalem in 1192, this king of England was captured & later ransomed\n",
      "150622                                                      The only king of England named Stephen was the grandson of this conqueror\n",
      "150880                                                          During Stanley Baldwin's term as P.M., this King of England abdicated\n",
      "151335                                   2000 saw a fight in England over running the lottery, with this Virgin king at the forefeont\n",
      "151746                                             Colchester, England was named for this legendary Celtic king immortalized in rhyme\n",
      "158120                  This Dutch-born English king introduced gin to England as the \"pouring spirit\" in the palace at Hampton Court\n",
      "159374                                                        A translation of the Bible is named for this king of England & Scotland\n",
      "159378                This king divorced the Church of England from the Catholic Church so that he could divorce the first of 6 wives\n",
      "167337                                                                 The last Anglo-Saxon king of England was killed in this battle\n",
      "174055                                                               This conqueror was crowned King of England on Christmas Day 1066\n",
      "175259                                                                             His short reign as King of England fell in in 1936\n",
      "178590                                       He succeeded Henry II as king of England in 1189 & was himself succeeded by John in 1199\n",
      "178921                                                                   Richard was crowned king of England at this place of worship\n",
      "186239              He was King of England from 1189 to 1199 but spent only 6 months there; the rest of the time, he was off fighting\n",
      "190102                                                  The man who became king of England in 1066 was succeeded by this king in 1087\n",
      "191531    On Jan. 28, 1547, after a physical & mental decline, this king of England was (surprisingly) survived by his wife Catherine\n",
      "195099                                In 1714 the Prince of Hanover, who spoke little English, became king of England under this name\n",
      "200369                8th C. King Offa built a 170-mile north-south dike that still partly marks the border of England & this country\n",
      "208742                                           Dutch-born king who ruled England jointly with Mary II & is a tasty New Zealand fish\n",
      "216021                               His nickname was \"Bertie\", but he used this name & number when he became king of England in 1901\n",
      "Name: question, dtype: object\n"
     ]
    }
   ],
   "source": [
    "def word_filter_updated(lst):\n",
    "    filter = lambda q: all((' ' + i.lower() + ' ') in q.lower() for i in lst)\n",
    "    return j[j.question.apply(filter)]\n",
    "\n",
    "print(word_filter_updated(['King', 'England']).question.count(), '\\n------')\n",
    "print(word_filter_updated(['King', 'England']).question)"
   ]
  },
  {
   "cell_type": "markdown",
   "metadata": {},
   "source": [
    "4. We may want to eventually compute aggregate statistics, like `.mean()` on the `\" Value\"` column. But right now, the values in that column are strings. Convert the`\" Value\"` column to floats. If you'd like to, you can create a new column with float values.\n",
    "\n",
    "   Now that you can filter the dataset of question, use your new column that contains the float values of each question to find the \"difficulty\" of certain topics. For example, what is the average value of questions that contain the word `\"King\"`?\n",
    "   \n",
    "   Make sure to use the dataset that contains the float values as the dataset you use in your filtering function."
   ]
  },
  {
   "cell_type": "code",
   "execution_count": 6,
   "metadata": {},
   "outputs": [
    {
     "name": "stdout",
     "output_type": "stream",
     "text": [
      "['$200' '$400' '$600' '$800' '$2,000' '$1000' '$1200' '$1600' '$2000'\n",
      " '$3,200' 'None' '$5,000' '$100' '$300' '$500' '$1,000' '$1,500' '$1,200'\n",
      " '$4,800' '$1,800' '$1,100' '$2,200' '$3,400' '$3,000' '$4,000' '$1,600'\n",
      " '$6,800' '$1,900' '$3,100' '$700' '$1,400' '$2,800' '$8,000' '$6,000'\n",
      " '$2,400' '$12,000' '$3,800' '$2,500' '$6,200' '$10,000' '$7,000' '$1,492'\n",
      " '$7,400' '$1,300' '$7,200' '$2,600' '$3,300' '$5,400' '$4,500' '$2,100'\n",
      " '$900' '$3,600' '$2,127' '$367' '$4,400' '$3,500' '$2,900' '$3,900'\n",
      " '$4,100' '$4,600' '$10,800' '$2,300' '$5,600' '$1,111' '$8,200' '$5,800'\n",
      " '$750' '$7,500' '$1,700' '$9,000' '$6,100' '$1,020' '$4,700' '$2,021'\n",
      " '$5,200' '$3,389' '$4,200' '$5' '$2,001' '$1,263' '$4,637' '$3,201'\n",
      " '$6,600' '$3,700' '$2,990' '$5,500' '$14,000' '$2,700' '$6,400' '$350'\n",
      " '$8,600' '$6,300' '$250' '$3,989' '$8,917' '$9,500' '$1,246' '$6,435'\n",
      " '$8,800' '$2,222' '$2,746' '$10,400' '$7,600' '$6,700' '$5,100' '$13,200'\n",
      " '$4,300' '$1,407' '$12,400' '$5,401' '$7,800' '$1,183' '$1,203' '$13,000'\n",
      " '$11,600' '$14,200' '$1,809' '$8,400' '$8,700' '$11,000' '$5,201'\n",
      " '$1,801' '$3,499' '$5,700' '$601' '$4,008' '$50' '$2,344' '$2,811'\n",
      " '$18,000' '$1,777' '$3,599' '$9,800' '$796' '$3,150' '$20' '$1,810' '$22'\n",
      " '$9,200' '$1,512' '$8,500' '$585' '$1,534' '$13,800' '$5,001' '$4,238'\n",
      " '$16,400' '$1,347' '$2547' '$11,200']\n"
     ]
    }
   ],
   "source": [
    "print(j.value.unique())"
   ]
  },
  {
   "cell_type": "code",
   "execution_count": 7,
   "metadata": {},
   "outputs": [
    {
     "name": "stdout",
     "output_type": "stream",
     "text": [
      "[2.000e+02 4.000e+02 6.000e+02 8.000e+02 2.000e+03 1.000e+03 1.200e+03\n",
      " 1.600e+03 3.200e+03 0.000e+00 5.000e+03 1.000e+02 3.000e+02 5.000e+02\n",
      " 1.500e+03 4.800e+03 1.800e+03 1.100e+03 2.200e+03 3.400e+03 3.000e+03\n",
      " 4.000e+03 6.800e+03 1.900e+03 3.100e+03 7.000e+02 1.400e+03 2.800e+03\n",
      " 8.000e+03 6.000e+03 2.400e+03 1.200e+04 3.800e+03 2.500e+03 6.200e+03\n",
      " 1.000e+04 7.000e+03 1.492e+03 7.400e+03 1.300e+03 7.200e+03 2.600e+03\n",
      " 3.300e+03 5.400e+03 4.500e+03 2.100e+03 9.000e+02 3.600e+03 2.127e+03\n",
      " 3.670e+02 4.400e+03 3.500e+03 2.900e+03 3.900e+03 4.100e+03 4.600e+03\n",
      " 1.080e+04 2.300e+03 5.600e+03 1.111e+03 8.200e+03 5.800e+03 7.500e+02\n",
      " 7.500e+03 1.700e+03 9.000e+03 6.100e+03 1.020e+03 4.700e+03 2.021e+03\n",
      " 5.200e+03 3.389e+03 4.200e+03 5.000e+00 2.001e+03 1.263e+03 4.637e+03\n",
      " 3.201e+03 6.600e+03 3.700e+03 2.990e+03 5.500e+03 1.400e+04 2.700e+03\n",
      " 6.400e+03 3.500e+02 8.600e+03 6.300e+03 2.500e+02 3.989e+03 8.917e+03\n",
      " 9.500e+03 1.246e+03 6.435e+03 8.800e+03 2.222e+03 2.746e+03 1.040e+04\n",
      " 7.600e+03 6.700e+03 5.100e+03 1.320e+04 4.300e+03 1.407e+03 1.240e+04\n",
      " 5.401e+03 7.800e+03 1.183e+03 1.203e+03 1.300e+04 1.160e+04 1.420e+04\n",
      " 1.809e+03 8.400e+03 8.700e+03 1.100e+04 5.201e+03 1.801e+03 3.499e+03\n",
      " 5.700e+03 6.010e+02 4.008e+03 5.000e+01 2.344e+03 2.811e+03 1.800e+04\n",
      " 1.777e+03 3.599e+03 9.800e+03 7.960e+02 3.150e+03 2.000e+01 1.810e+03\n",
      " 2.200e+01 9.200e+03 1.512e+03 8.500e+03 5.850e+02 1.534e+03 1.380e+04\n",
      " 5.001e+03 4.238e+03 1.640e+04 1.347e+03 2.547e+03 1.120e+04]\n"
     ]
    }
   ],
   "source": [
    "j['float_value'] = j.value.apply(lambda i: float(i.strip(' $').replace(',', '')) if i != 'None' else 0)\n",
    "print(j.float_value.unique())"
   ]
  },
  {
   "cell_type": "code",
   "execution_count": 8,
   "metadata": {},
   "outputs": [
    {
     "name": "stdout",
     "output_type": "stream",
     "text": [
      "806.9708846584547\n"
     ]
    }
   ],
   "source": [
    "print(word_filter_updated(['King']).float_value.mean())"
   ]
  },
  {
   "cell_type": "markdown",
   "metadata": {},
   "source": [
    "5. Write a function that returns the count of unique answers to all of the questions in a dataset. For example, after filtering the entire dataset to only questions containing the word `\"King\"`, we could then find all of the unique answers to those questions. The answer \"Henry VIII\" appeared 55 times and was the most common answer."
   ]
  },
  {
   "cell_type": "code",
   "execution_count": 9,
   "metadata": {},
   "outputs": [
    {
     "name": "stdout",
     "output_type": "stream",
     "text": [
      "Henry VIII                           31\n",
      "Richard III                          20\n",
      "Sweden                               18\n",
      "Norway                               18\n",
      "Solomon                              17\n",
      "                                     ..\n",
      "Bad, Bad Leroy Brown                  1\n",
      "Elephants                             1\n",
      "Deborah Kerr                          1\n",
      "Ruritania                             1\n",
      "a pyramid (the pyramids accepted)     1\n",
      "Name: answer, Length: 1040, dtype: int64\n"
     ]
    }
   ],
   "source": [
    "def unique_answers(lst):\n",
    "    return word_filter_updated(lst).answer.value_counts()\n",
    "\n",
    "print(unique_answers(['King']))"
   ]
  },
  {
   "cell_type": "markdown",
   "metadata": {},
   "source": [
    "6. Explore from here! This is an incredibly rich dataset, and there are so many interesting things to discover. There are a few columns that we haven't even started looking at yet. Here are some ideas on ways to continue working with this data:\n",
    "\n",
    " * Investigate the ways in which questions change over time by filtering by the date. How many questions from the 90s use the word `\"Computer\"` compared to questions from the 2000s?\n",
    " * Is there a connection between the round and the category? Are you more likely to find certain categories, like `\"Literature\"` in Single Jeopardy or Double Jeopardy?\n",
    " * Build a system to quiz yourself. Grab random questions, and use the <a href=\"https://docs.python.org/3/library/functions.html#input\">input</a> function to get a response from the user. Check to see if that response was right or wrong."
   ]
  },
  {
   "cell_type": "code",
   "execution_count": 10,
   "metadata": {},
   "outputs": [
    {
     "data": {
      "text/plain": [
       "57"
      ]
     },
     "execution_count": 10,
     "metadata": {},
     "output_type": "execute_result"
    }
   ],
   "source": [
    "j['air_date_dt'] = j.air_date.astype('datetime64[ns]')\n",
    "j['air_date_year'] = j.air_date_dt.dt.year\n",
    "\n",
    "filter = word_filter_updated(['computer'])\n",
    "y90s = filter[(filter.air_date_year >= 1990) & (filter.air_date_year <= 1999)]\n",
    "y90s.air_date_year.count()"
   ]
  },
  {
   "cell_type": "code",
   "execution_count": 11,
   "metadata": {},
   "outputs": [
    {
     "data": {
      "text/plain": [
       "167"
      ]
     },
     "execution_count": 11,
     "metadata": {},
     "output_type": "execute_result"
    }
   ],
   "source": [
    "y2000s = filter[(filter.air_date_year >= 2000) & (filter.air_date_year <= 2009)]\n",
    "y2000s.air_date_year.count()"
   ]
  },
  {
   "cell_type": "code",
   "execution_count": 12,
   "metadata": {},
   "outputs": [
    {
     "data": {
      "text/plain": [
       "Jeopardy!           107384\n",
       "Double Jeopardy!    105912\n",
       "Final Jeopardy!       3631\n",
       "Tiebreaker               3\n",
       "Name: round, dtype: int64"
      ]
     },
     "execution_count": 12,
     "metadata": {},
     "output_type": "execute_result"
    }
   ],
   "source": [
    "j['round'].value_counts()"
   ]
  },
  {
   "cell_type": "code",
   "execution_count": 13,
   "metadata": {},
   "outputs": [
    {
     "data": {
      "text/plain": [
       "BEFORE & AFTER        547\n",
       "SCIENCE               519\n",
       "LITERATURE            496\n",
       "AMERICAN HISTORY      418\n",
       "POTPOURRI             401\n",
       "                     ... \n",
       "1999 TELEVISION         1\n",
       "WORDS IN PHYSICS        1\n",
       "LITERATURE & MUSIC      1\n",
       "'90s NOTABLES           1\n",
       "CELEBRITY NAMES         1\n",
       "Name: category, Length: 27995, dtype: int64"
      ]
     },
     "execution_count": 13,
     "metadata": {},
     "output_type": "execute_result"
    }
   ],
   "source": [
    "j.category.value_counts()"
   ]
  },
  {
   "cell_type": "code",
   "execution_count": 14,
   "metadata": {},
   "outputs": [
    {
     "data": {
      "text/html": [
       "<div>\n",
       "<style scoped>\n",
       "    .dataframe tbody tr th:only-of-type {\n",
       "        vertical-align: middle;\n",
       "    }\n",
       "\n",
       "    .dataframe tbody tr th {\n",
       "        vertical-align: top;\n",
       "    }\n",
       "\n",
       "    .dataframe thead th {\n",
       "        text-align: right;\n",
       "    }\n",
       "</style>\n",
       "<table border=\"1\" class=\"dataframe\">\n",
       "  <thead>\n",
       "    <tr style=\"text-align: right;\">\n",
       "      <th>round</th>\n",
       "      <th>category</th>\n",
       "      <th>Double Jeopardy!</th>\n",
       "      <th>Final Jeopardy!</th>\n",
       "      <th>Jeopardy!</th>\n",
       "    </tr>\n",
       "  </thead>\n",
       "  <tbody>\n",
       "    <tr>\n",
       "      <th>0</th>\n",
       "      <td>LITERATURE</td>\n",
       "      <td>381</td>\n",
       "      <td>10</td>\n",
       "      <td>105</td>\n",
       "    </tr>\n",
       "  </tbody>\n",
       "</table>\n",
       "</div>"
      ],
      "text/plain": [
       "round    category  Double Jeopardy!  Final Jeopardy!  Jeopardy!\n",
       "0      LITERATURE               381               10        105"
      ]
     },
     "execution_count": 14,
     "metadata": {},
     "output_type": "execute_result"
    }
   ],
   "source": [
    "def round_cat(cat):\n",
    "    filter = j[j.category == cat.upper()]\n",
    "    p = filter.groupby(['round', 'category']).show_number.count().reset_index().pivot(\n",
    "        columns = 'round',\n",
    "        index = 'category',\n",
    "        values = 'show_number'\n",
    "    ).reset_index()\n",
    "    return p\n",
    "\n",
    "round_cat('literature')"
   ]
  }
 ],
 "metadata": {
  "kernelspec": {
   "display_name": "Python 3 (ipykernel)",
   "language": "python",
   "name": "python3"
  },
  "language_info": {
   "codemirror_mode": {
    "name": "ipython",
    "version": 3
   },
   "file_extension": ".py",
   "mimetype": "text/x-python",
   "name": "python",
   "nbconvert_exporter": "python",
   "pygments_lexer": "ipython3",
   "version": "3.9.7"
  }
 },
 "nbformat": 4,
 "nbformat_minor": 2
}
